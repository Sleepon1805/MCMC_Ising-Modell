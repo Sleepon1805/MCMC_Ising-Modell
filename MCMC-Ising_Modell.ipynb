{
 "cells": [
  {
   "cell_type": "code",
   "execution_count": 1,
   "id": "cf0d9e96",
   "metadata": {},
   "outputs": [],
   "source": [
    "%matplotlib notebook\n",
    "%matplotlib inline\n",
    "import math\n",
    "import numpy as np\n",
    "import matplotlib.pyplot as plt\n",
    "plt.rcParams['figure.figsize'] = [10, 6]\n",
    "\n",
    "N = 25 #ein Zustand z ist eine NxN Matrix\n",
    "beta = 0.2 #inverse Temperatur"
   ]
  },
  {
   "cell_type": "code",
   "execution_count": 2,
   "id": "501d03e2",
   "metadata": {},
   "outputs": [],
   "source": [
    "#Initialisation der Anfangsmatrix z\n",
    "def createMatrix(N):\n",
    "    return np.ones((N,N))\n",
    "    #return (np.random.rand(N,N) < 0.5)*2-1"
   ]
  },
  {
   "cell_type": "code",
   "execution_count": 3,
   "id": "0a6cd7ca",
   "metadata": {},
   "outputs": [],
   "source": [
    "#Hamilton-Funktion H(z) = -\\sum_{\\{e,e'\\}\\in K} z(e)z(e')\n",
    "def energy(z):\n",
    "    \"\"\"\n",
    "    todo\n",
    "    \"\"\"\n",
    "    return -1 * (np.sum(z[0:N-1,:]*z[1:N,:])+np.sum(z[:,0:N-1]*z[:,1:N]))"
   ]
  },
  {
   "cell_type": "code",
   "execution_count": 4,
   "id": "ab99dd68",
   "metadata": {},
   "outputs": [],
   "source": [
    "#nicht normierte Verteilung \\mu^\\beta\n",
    "def prob(z):\n",
    "    return np.exp(-beta*energy(z))"
   ]
  },
  {
   "cell_type": "code",
   "execution_count": 5,
   "id": "9b33ad09",
   "metadata": {},
   "outputs": [],
   "source": [
    "#Übergangsmatrix Q mit q_{z,z'}=1/|E| falls z,z' sich nur um einen Eintrag unterscheiden\n",
    "def proposal(z):\n",
    "    zp = np.copy(z)\n",
    "    zp[np.random.randint(0,N),np.random.randint(0,N)] *= -1\n",
    "    return zp"
   ]
  },
  {
   "cell_type": "code",
   "execution_count": 6,
   "id": "2031771b",
   "metadata": {},
   "outputs": [],
   "source": [
    "#Akzeptanzwahrscheinlichkeit, Metropolis-Hastings\n",
    "def prob_acc_MH(z_new, z_old, prob):\n",
    "    return min(1, prob(z_new)/prob(z_old))"
   ]
  },
  {
   "cell_type": "code",
   "execution_count": 7,
   "id": "a2e2d6f0",
   "metadata": {},
   "outputs": [],
   "source": [
    "#Akzeptanzwahrscheinlichkeit, Gibbs-Sampler\n",
    "def prob_acc_GS(z_new, z_old, prob):\n",
    "    return prob(z_new)/(prob(z_new) + prob(z_old))"
   ]
  },
  {
   "cell_type": "code",
   "execution_count": 8,
   "id": "680e2941",
   "metadata": {},
   "outputs": [],
   "source": [
    "#Ein Schritt in dem MCMC-Algorithmus\n",
    "def sample(z_old, prob):\n",
    "    z_new = proposal(z_old)\n",
    "    accept = np.random.random() < prob_acc_GS(z_new, z_old, prob)\n",
    "    if accept:\n",
    "        return z_new\n",
    "    else:\n",
    "        return z_old"
   ]
  },
  {
   "cell_type": "code",
   "execution_count": 9,
   "id": "53020a72",
   "metadata": {},
   "outputs": [],
   "source": [
    "def build_chain(init, n_total, prob):\n",
    "    chain = [init]\n",
    "    for _ in range(n_total):\n",
    "        state = sample(chain[-1], prob)\n",
    "        chain.append(state)\n",
    "    \n",
    "    return chain"
   ]
  },
  {
   "cell_type": "code",
   "execution_count": 10,
   "id": "d78f96da",
   "metadata": {},
   "outputs": [],
   "source": [
    "# f(z) = Magnetisierung von z = 1/|E| * \\sum_{e\\in E} z(e)\n",
    "def f(z):\n",
    "    return np.sum(z)/(N*N)"
   ]
  },
  {
   "cell_type": "code",
   "execution_count": 11,
   "id": "0e6e2008",
   "metadata": {},
   "outputs": [
    {
     "name": "stdout",
     "output_type": "stream",
     "text": [
      "Last state of chain: \n",
      "z= [[-1. -1.  1.  1. -1.  1.  1. -1. -1.  1. -1.  1.  1.  1. -1.  1. -1. -1.\n",
      "  -1. -1.  1. -1.  1.  1.  1.]\n",
      " [ 1. -1. -1.  1. -1.  1.  1.  1. -1. -1. -1.  1. -1. -1. -1. -1.  1.  1.\n",
      "  -1. -1.  1. -1. -1.  1.  1.]\n",
      " [-1. -1. -1.  1.  1.  1.  1. -1. -1. -1. -1.  1. -1. -1. -1. -1.  1.  1.\n",
      "   1.  1.  1. -1. -1. -1.  1.]\n",
      " [ 1. -1. -1.  1.  1. -1. -1. -1.  1. -1. -1.  1.  1. -1. -1. -1.  1.  1.\n",
      "  -1.  1. -1. -1.  1. -1. -1.]\n",
      " [ 1.  1. -1. -1.  1. -1. -1. -1. -1.  1. -1. -1.  1.  1.  1. -1. -1.  1.\n",
      "  -1. -1. -1.  1. -1.  1.  1.]\n",
      " [ 1. -1. -1. -1.  1.  1.  1.  1.  1. -1.  1. -1.  1. -1. -1. -1.  1. -1.\n",
      "  -1.  1.  1. -1. -1. -1. -1.]\n",
      " [ 1. -1. -1. -1.  1.  1.  1. -1.  1.  1.  1. -1. -1. -1. -1.  1.  1.  1.\n",
      "  -1.  1.  1.  1. -1. -1. -1.]\n",
      " [-1. -1. -1. -1.  1.  1. -1. -1.  1.  1.  1.  1. -1. -1.  1.  1. -1. -1.\n",
      "  -1. -1. -1. -1. -1. -1. -1.]\n",
      " [ 1. -1. -1. -1. -1.  1.  1.  1.  1. -1.  1.  1. -1. -1.  1.  1.  1.  1.\n",
      "  -1. -1.  1. -1.  1. -1. -1.]\n",
      " [-1. -1.  1.  1. -1. -1.  1.  1.  1.  1. -1.  1. -1. -1. -1.  1.  1.  1.\n",
      "  -1. -1. -1. -1. -1. -1.  1.]\n",
      " [-1. -1. -1.  1.  1.  1.  1.  1.  1.  1. -1. -1. -1. -1.  1. -1. -1. -1.\n",
      "   1.  1. -1. -1. -1. -1.  1.]\n",
      " [ 1.  1. -1. -1. -1.  1.  1. -1. -1. -1. -1. -1. -1.  1.  1. -1. -1. -1.\n",
      "  -1. -1.  1. -1.  1.  1. -1.]\n",
      " [-1. -1. -1.  1. -1.  1.  1.  1. -1. -1. -1. -1. -1.  1.  1.  1. -1. -1.\n",
      "   1.  1. -1. -1.  1. -1.  1.]\n",
      " [-1.  1.  1.  1.  1.  1.  1.  1. -1.  1. -1.  1.  1. -1. -1.  1. -1. -1.\n",
      "  -1. -1. -1. -1. -1. -1. -1.]\n",
      " [-1. -1.  1.  1.  1.  1.  1. -1.  1.  1. -1.  1.  1. -1.  1. -1. -1. -1.\n",
      "   1. -1. -1. -1. -1. -1. -1.]\n",
      " [-1.  1.  1.  1.  1.  1.  1.  1. -1. -1. -1.  1. -1.  1.  1.  1.  1.  1.\n",
      "  -1.  1. -1.  1.  1. -1. -1.]\n",
      " [-1.  1. -1.  1. -1.  1. -1.  1. -1. -1. -1.  1.  1. -1.  1.  1.  1. -1.\n",
      "  -1. -1.  1.  1.  1. -1. -1.]\n",
      " [-1. -1. -1. -1. -1. -1.  1.  1. -1.  1. -1. -1.  1. -1.  1.  1.  1. -1.\n",
      "   1. -1. -1. -1.  1. -1.  1.]\n",
      " [ 1. -1.  1.  1. -1. -1.  1.  1. -1. -1. -1.  1.  1. -1. -1.  1. -1.  1.\n",
      "  -1. -1. -1. -1. -1. -1. -1.]\n",
      " [ 1. -1. -1.  1.  1.  1. -1.  1.  1. -1. -1.  1.  1. -1.  1.  1.  1.  1.\n",
      "   1. -1.  1.  1. -1. -1. -1.]\n",
      " [ 1. -1. -1. -1.  1. -1.  1.  1.  1.  1.  1.  1. -1.  1. -1.  1.  1.  1.\n",
      "  -1. -1. -1.  1. -1. -1. -1.]\n",
      " [-1.  1. -1. -1.  1. -1. -1. -1.  1. -1.  1.  1. -1. -1. -1. -1.  1.  1.\n",
      "  -1.  1.  1.  1. -1. -1.  1.]\n",
      " [ 1. -1. -1. -1. -1.  1.  1. -1. -1.  1. -1.  1. -1.  1. -1.  1. -1.  1.\n",
      "  -1.  1.  1.  1.  1. -1.  1.]\n",
      " [-1.  1.  1.  1.  1.  1.  1. -1.  1. -1. -1.  1.  1.  1.  1.  1.  1. -1.\n",
      "   1. -1.  1.  1.  1.  1.  1.]\n",
      " [-1. -1.  1.  1.  1.  1. -1. -1. -1. -1. -1.  1.  1. -1. -1. -1. -1. -1.\n",
      "  -1. -1. -1.  1. -1. -1. -1.]]  with energy  -176.0  and magnetization  -0.072\n"
     ]
    }
   ],
   "source": [
    "#main()\n",
    "z = createMatrix(N)\n",
    "chain = build_chain(z, 100000, prob)\n",
    "\n",
    "print(\"Last state of chain: \")\n",
    "for i in range(-1,0):\n",
    "    print(\"z=\", chain[i], \" with energy \", energy(chain[i]), \" and magnetization \", f(chain[i]))"
   ]
  },
  {
   "cell_type": "code",
   "execution_count": 12,
   "id": "2782029a",
   "metadata": {},
   "outputs": [
    {
     "data": {
      "image/png": "[encoded data removed]",
      "text/plain": [
       "<Figure size 720x432 with 1 Axes>"
      ]
     },
     "metadata": {
      "needs_background": "light"
     },
     "output_type": "display_data"
    }
   ],
   "source": [
    "#konstruiere Graph\n",
    "lim = 100000\n",
    "E = np.zeros(lim)\n",
    "E[0] = f(chain[0])\n",
    "for i in range(1,lim):\n",
    "    E[i] = 1/i * ((i-1)*E[i-1] + f(chain[i])) #rekursive Aufbau von E_\\mu(f)\n",
    "xses = range(1,lim)\n",
    "yses = [E[x] for x in xses]\n",
    "#yses = [magnetisierung(chain[x]) for x in xses]\n",
    "fig, ax = plt.subplots()\n",
    "ax.plot(xses, yses)\n",
    "plt.xlabel(\"n\")\n",
    "plt.ylabel(\"M_n(f)\")\n",
    "plt.show()"
   ]
  },
  {
   "cell_type": "code",
   "execution_count": null,
   "id": "eaa3bee5",
   "metadata": {},
   "outputs": [],
   "source": []
  }
 ],
 "metadata": {
  "kernelspec": {
   "display_name": "Python 3 (ipykernel)",
   "language": "python",
   "name": "python3"
  },
  "language_info": {
   "codemirror_mode": {
    "name": "ipython",
    "version": 3
   },
   "file_extension": ".py",
   "mimetype": "text/x-python",
   "name": "python",
   "nbconvert_exporter": "python",
   "pygments_lexer": "ipython3",
   "version": "3.9.7"
  }
 },
 "nbformat": 4,
 "nbformat_minor": 5
}
