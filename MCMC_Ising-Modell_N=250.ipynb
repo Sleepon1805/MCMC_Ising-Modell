{
 "cells": [
  {
   "cell_type": "code",
   "execution_count": 1,
   "id": "cf0d9e96",
   "metadata": {},
   "outputs": [],
   "source": [
    "%matplotlib notebook\n",
    "%matplotlib inline\n",
    "import math\n",
    "import numpy as np\n",
    "import matplotlib.pyplot as plt\n",
    "plt.rcParams['figure.figsize'] = [10, 6]\n",
    "\n",
    "N = 250\n",
    "beta = 0.2"
   ]
  },
  {
   "cell_type": "code",
   "execution_count": 2,
   "id": "501d03e2",
   "metadata": {},
   "outputs": [],
   "source": [
    "def createMatrix(N):\n",
    "    return np.ones((N,N), dtype=bool)"
   ]
  },
  {
   "cell_type": "code",
   "execution_count": 3,
   "id": "0a6cd7ca",
   "metadata": {},
   "outputs": [],
   "source": [
    "def energy(z):\n",
    "    zp = np.copy(z).astype('float32')\n",
    "    zp = 2*(zp - 0.5)\n",
    "    return -1 * (np.sum(zp[0:N-1,:]*z[1:N,:]) + np.sum(zp[:,0:N-1]*z[:,1:N]))"
   ]
  },
  {
   "cell_type": "code",
   "execution_count": 4,
   "id": "9b33ad09",
   "metadata": {},
   "outputs": [],
   "source": [
    "def proposal(z):\n",
    "    zp = np.copy(z)\n",
    "    i = np.random.randint(0,N)\n",
    "    j = np.random.randint(0,N)\n",
    "    zp[i,j] = (zp[i,j]==False)\n",
    "    return zp"
   ]
  },
  {
   "cell_type": "code",
   "execution_count": 5,
   "id": "2031771b",
   "metadata": {},
   "outputs": [],
   "source": [
    "def prob_acc_MH(z_new, z_old):\n",
    "    return min(1, np.exp(-beta*(energy(z_new)-energy(z_old))))"
   ]
  },
  {
   "cell_type": "code",
   "execution_count": 6,
   "id": "680e2941",
   "metadata": {},
   "outputs": [],
   "source": [
    "def sample(z_old):\n",
    "    z_new = proposal(z_old)\n",
    "    accept = np.random.random() < prob_acc_MH(z_new,z_old)\n",
    "    if accept:\n",
    "        return z_new\n",
    "    else:\n",
    "        return z_old"
   ]
  },
  {
   "cell_type": "code",
   "execution_count": 7,
   "id": "53020a72",
   "metadata": {},
   "outputs": [],
   "source": [
    "def build_chain(initial_matrix, n_total):\n",
    "    chain = [initial_matrix]\n",
    "    for i in range(n_total):\n",
    "        state = sample(chain[-1])\n",
    "        chain.append(state)\n",
    "        if i % (n_total//20) == 0:\n",
    "            print(\"ready for\", 5*(i//(n_total//20)), \"%\")\n",
    "    print(\"ready for\", 100, \"%\")\n",
    "        \n",
    "    return chain"
   ]
  },
  {
   "cell_type": "code",
   "execution_count": 8,
   "id": "d78f96da",
   "metadata": {},
   "outputs": [],
   "source": [
    "def f(z):\n",
    "    zp = np.copy(z).astype('float32')\n",
    "    zp = 2*(zp - 0.5)\n",
    "    return np.sum(zp)/(N*N)"
   ]
  },
  {
   "cell_type": "code",
   "execution_count": 9,
   "id": "0e6e2008",
   "metadata": {},
   "outputs": [
    {
     "name": "stdout",
     "output_type": "stream",
     "text": [
      "ready for 0 %\n",
      "ready for 5 %\n",
      "ready for 10 %\n",
      "ready for 15 %\n",
      "ready for 20 %\n",
      "ready for 25 %\n",
      "ready for 30 %\n",
      "ready for 35 %\n",
      "ready for 40 %\n",
      "ready for 45 %\n",
      "ready for 50 %\n",
      "ready for 55 %\n",
      "ready for 60 %\n",
      "ready for 65 %\n",
      "ready for 70 %\n",
      "ready for 75 %\n",
      "ready for 80 %\n",
      "ready for 85 %\n",
      "ready for 90 %\n",
      "ready for 95 %\n",
      "ready for 100 %\n"
     ]
    }
   ],
   "source": [
    "z = createMatrix(N)\n",
    "chain = build_chain(z, 10**6)"
   ]
  },
  {
   "cell_type": "code",
   "execution_count": 10,
   "id": "2782029a",
   "metadata": {
    "scrolled": false
   },
   "outputs": [
    {
     "name": "stdout",
     "output_type": "stream",
     "text": [
      "ready for 5 %\n",
      "ready for 10 %\n",
      "ready for 15 %\n",
      "ready for 20 %\n",
      "ready for 25 %\n",
      "ready for 30 %\n",
      "ready for 35 %\n",
      "ready for 40 %\n",
      "ready for 45 %\n",
      "ready for 50 %\n",
      "ready for 55 %\n",
      "ready for 60 %\n",
      "ready for 65 %\n",
      "ready for 70 %\n",
      "ready for 75 %\n",
      "ready for 80 %\n",
      "ready for 85 %\n",
      "ready for 90 %\n",
      "ready for 95 %\n",
      "ready for 100 %\n"
     ]
    },
    {
     "data": {
      "image/png": "[encoded data removed]",
      "text/plain": [
       "<Figure size 720x432 with 1 Axes>"
      ]
     },
     "metadata": {
      "needs_background": "light"
     },
     "output_type": "display_data"
    }
   ],
   "source": [
    "lim = 10**6\n",
    "E = np.zeros(lim)\n",
    "E[0] = f(chain[0])\n",
    "for i in range(1,lim):\n",
    "    E[i] = 1/i * ((i-1)*E[i-1] + f(chain[i])) #rekursive Aufbau von E_\\mu(f)\n",
    "    if i % (lim//20) == 0:\n",
    "        print(\"ready for\", 5*(i//(lim//20)), \"%\") \n",
    "print(\"ready for\", 100, \"%\")\n",
    "xses = range(1,lim)\n",
    "yses = [E[x] for x in xses]\n",
    "fig, ax = plt.subplots()\n",
    "ax.plot(xses, yses)\n",
    "plt.xlabel(\"n\")\n",
    "plt.ylabel(\"M_n(f)\")\n",
    "plt.show()"
   ]
  },
  {
   "cell_type": "code",
   "execution_count": null,
   "id": "534d5f8d",
   "metadata": {},
   "outputs": [],
   "source": []
  }
 ],
 "metadata": {
  "kernelspec": {
   "display_name": "Python 3 (ipykernel)",
   "language": "python",
   "name": "python3"
  },
  "language_info": {
   "codemirror_mode": {
    "name": "ipython",
    "version": 3
   },
   "file_extension": ".py",
   "mimetype": "text/x-python",
   "name": "python",
   "nbconvert_exporter": "python",
   "pygments_lexer": "ipython3",
   "version": "3.9.7"
  }
 },
 "nbformat": 4,
 "nbformat_minor": 5
}
