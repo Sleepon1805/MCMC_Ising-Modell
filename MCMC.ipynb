{
 "cells": [
  {
   "cell_type": "code",
   "execution_count": 16,
   "id": "cf0d9e96",
   "metadata": {},
   "outputs": [],
   "source": [
    "%matplotlib notebook\n",
    "%matplotlib inline\n",
    "import numpy as np\n",
    "import matplotlib.pyplot as plt\n",
    "plt.rcParams['figure.figsize'] = [10, 6]\n",
    "\n",
    "l = 0.5"
   ]
  },
  {
   "cell_type": "code",
   "execution_count": 17,
   "id": "ab99dd68",
   "metadata": {},
   "outputs": [],
   "source": [
    "#exponential distribution without normalisation constant\n",
    "def prob(x):\n",
    "    if x > 0:\n",
    "        return np.exp(-l * x)\n",
    "    else:\n",
    "        return 0"
   ]
  },
  {
   "cell_type": "code",
   "execution_count": 18,
   "id": "9b33ad09",
   "metadata": {},
   "outputs": [],
   "source": [
    "#propose next state of chain\n",
    "def proposal(x, stepsize):\n",
    "    return np.random.uniform(low=x - 0.5 * stepsize, high=x + 0.5 * stepsize)"
   ]
  },
  {
   "cell_type": "code",
   "execution_count": 19,
   "id": "2031771b",
   "metadata": {},
   "outputs": [],
   "source": [
    "#acceptance probability of Metropolis-Hastings\n",
    "def p_acc(x_new, x, prob):\n",
    "    return min(1, prob(x_new)/prob(x))"
   ]
  },
  {
   "cell_type": "code",
   "execution_count": 20,
   "id": "680e2941",
   "metadata": {},
   "outputs": [],
   "source": [
    "#with p_acc we go to the next state, otherwise stay in current state\n",
    "def sample(x, prob, stepsize):\n",
    "    x_new = proposal(x, stepsize)\n",
    "    accept = np.random.random() < p_acc(x_new, x, prob)\n",
    "    if accept:\n",
    "        return accept, x_new\n",
    "    else:\n",
    "        return accept, x"
   ]
  },
  {
   "cell_type": "code",
   "execution_count": 21,
   "id": "53020a72",
   "metadata": {},
   "outputs": [],
   "source": [
    "def build_chain(init, stepsize, n_total, prob):\n",
    "\n",
    "    n_accepted = 0\n",
    "    chain = [init]\n",
    "\n",
    "    for _ in range(n_total):\n",
    "        accept, state = sample(chain[-1], prob, stepsize)\n",
    "        chain.append(state)\n",
    "        n_accepted += accept\n",
    "    \n",
    "    acceptance_rate = n_accepted / float(n_total)\n",
    "    \n",
    "    return chain, acceptance_rate"
   ]
  },
  {
   "cell_type": "code",
   "execution_count": 22,
   "id": "0e6e2008",
   "metadata": {},
   "outputs": [
    {
     "name": "stdout",
     "output_type": "stream",
     "text": [
      "Acceptance rate: 0.694\n",
      "Last ten states of chain: 2.67862, 3.73117, 4.32840, 4.78457, 4.22530, 3.49630, 4.83056, 3.56008, 3.07585, 1.70669\n"
     ]
    }
   ],
   "source": [
    "chain, acceptance_rate = build_chain(2.0, 3.0, 10000, prob)\n",
    "\n",
    "print(\"Acceptance rate: {:.3f}\".format(acceptance_rate))\n",
    "last_states = \", \".join(\"{:.5f}\".format(state) \n",
    "                        for state in chain[-10:])\n",
    "print(\"Last ten states of chain: \" + last_states)"
   ]
  },
  {
   "cell_type": "code",
   "execution_count": 23,
   "id": "e3a6cf44",
   "metadata": {},
   "outputs": [
    {
     "data": {
      "image/png": "[encoded data removed]",
      "text/plain": [
       "<Figure size 720x432 with 1 Axes>"
      ]
     },
     "metadata": {
      "needs_background": "light"
     },
     "output_type": "display_data"
    }
   ],
   "source": [
    "def plot_samples(chain, prob, ax, orientation='vertical', normalize=True,\n",
    "                 xlims=(-1, 10), legend=True):\n",
    "    from scipy.integrate import quad\n",
    "    \n",
    "    ax.hist(chain, bins=50, density=True, label=\"MCMC samples\",\n",
    "           orientation=orientation)\n",
    "    xses = np.linspace(xlims[0], xlims[1], 1000)\n",
    "    yses = [l * prob(x) for x in xses]\n",
    "    if orientation == 'horizontal':\n",
    "        (yses, xses) = (xses, yses)\n",
    "    ax.plot(xses, yses, label=\"true distribution\")\n",
    "    if legend:\n",
    "        ax.legend(frameon=False)\n",
    "    \n",
    "fig, ax = plt.subplots()\n",
    "plot_samples(chain[500:], prob, ax)\n",
    "ax.set_yticks(())\n",
    "plt.show()"
   ]
  },
  {
   "cell_type": "code",
   "execution_count": null,
   "id": "235e7d12",
   "metadata": {},
   "outputs": [],
   "source": []
  }
 ],
 "metadata": {
  "kernelspec": {
   "display_name": "Python 3 (ipykernel)",
   "language": "python",
   "name": "python3"
  },
  "language_info": {
   "codemirror_mode": {
    "name": "ipython",
    "version": 3
   },
   "file_extension": ".py",
   "mimetype": "text/x-python",
   "name": "python",
   "nbconvert_exporter": "python",
   "pygments_lexer": "ipython3",
   "version": "3.9.7"
  }
 },
 "nbformat": 4,
 "nbformat_minor": 5
}
