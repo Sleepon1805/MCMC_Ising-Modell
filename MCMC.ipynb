{
 "cells": [
  {
   "cell_type": "code",
   "execution_count": 1,
   "id": "cf0d9e96",
   "metadata": {},
   "outputs": [],
   "source": [
    "%matplotlib notebook\n",
    "%matplotlib inline\n",
    "import numpy as np\n",
    "import matplotlib.pyplot as plt\n",
    "plt.rcParams['figure.figsize'] = [10, 6]\n",
    "np.random.seed(42)"
   ]
  },
  {
   "cell_type": "code",
   "execution_count": 108,
   "id": "ab99dd68",
   "metadata": {},
   "outputs": [],
   "source": [
    "def prob(x):\n",
    "    l = 0.5\n",
    "    if x > 0:\n",
    "        return np.exp(-l * x)\n",
    "    else:\n",
    "        return 0"
   ]
  },
  {
   "cell_type": "code",
   "execution_count": 90,
   "id": "9b33ad09",
   "metadata": {},
   "outputs": [],
   "source": [
    "def proposal(x, stepsize):\n",
    "    return np.random.uniform(low=x - 0.5 * stepsize, high=x + 0.5 * stepsize)"
   ]
  },
  {
   "cell_type": "code",
   "execution_count": 103,
   "id": "2031771b",
   "metadata": {},
   "outputs": [],
   "source": [
    "def p_acc_MH(x_new, x_old, prob):\n",
    "    return min(1, prob(x_new)/prob(x_old))"
   ]
  },
  {
   "cell_type": "code",
   "execution_count": 111,
   "id": "680e2941",
   "metadata": {},
   "outputs": [],
   "source": [
    "def sample_MH(x_old, prob, stepsize):\n",
    "    x_new = proposal(x_old, stepsize)\n",
    "    accept = np.random.random() < p_acc_MH(x_new, x_old, prob)\n",
    "    if accept:\n",
    "        return accept, x_new\n",
    "    else:\n",
    "        return accept, x_old"
   ]
  },
  {
   "cell_type": "code",
   "execution_count": 93,
   "id": "53020a72",
   "metadata": {},
   "outputs": [],
   "source": [
    "def build_MH_chain(init, stepsize, n_total, prob):\n",
    "\n",
    "    n_accepted = 0\n",
    "    chain = [init]\n",
    "\n",
    "    for _ in range(n_total):\n",
    "        accept, state = sample_MH(chain[-1], prob, stepsize)\n",
    "        chain.append(state)\n",
    "        n_accepted += accept\n",
    "    \n",
    "    acceptance_rate = n_accepted / float(n_total)\n",
    "    \n",
    "    return chain, acceptance_rate"
   ]
  },
  {
   "cell_type": "code",
   "execution_count": 109,
   "id": "0e6e2008",
   "metadata": {},
   "outputs": [
    {
     "name": "stdout",
     "output_type": "stream",
     "text": [
      "Acceptance rate: 0.332\n",
      "Last ten states of chain: 0.94639, 0.30993, 0.30993, 0.61854, 0.19913, 0.19913, 0.19913, 0.19913, 0.43271, 0.43271\n"
     ]
    }
   ],
   "source": [
    "chain, acceptance_rate = build_MH_chain(2.0, 3.0, 10000, prob)\n",
    "\n",
    "print(\"Acceptance rate: {:.3f}\".format(acceptance_rate))\n",
    "last_states = \", \".join(\"{:.5f}\".format(state) \n",
    "                        for state in chain[-10:])\n",
    "print(\"Last ten states of chain: \" + last_states)"
   ]
  },
  {
   "cell_type": "code",
   "execution_count": 112,
   "id": "e3a6cf44",
   "metadata": {},
   "outputs": [
    {
     "data": {
      "image/png": "[encoded data removed]",
      "text/plain": [
       "<Figure size 720x432 with 1 Axes>"
      ]
     },
     "metadata": {
      "needs_background": "light"
     },
     "output_type": "display_data"
    }
   ],
   "source": [
    "def plot_samples(chain, prob, ax, orientation='vertical', normalize=True,\n",
    "                 xlims=(-5, 5), legend=True):\n",
    "    from scipy.integrate import quad\n",
    "    \n",
    "    ax.hist(chain, bins=50, density=True, label=\"MCMC samples\",\n",
    "           orientation=orientation)\n",
    "    xses = np.linspace(xlims[0], xlims[1], 1000)\n",
    "    yses = [prob(x) for x in xses]\n",
    "    if orientation == 'horizontal':\n",
    "        (yses, xses) = (xses, yses)\n",
    "    ax.plot(xses, yses, label=\"true distribution\")\n",
    "    if legend:\n",
    "        ax.legend(frameon=False)\n",
    "    \n",
    "fig, ax = plt.subplots()\n",
    "plot_samples(chain[500:], prob, ax)\n",
    "despine(ax)\n",
    "ax.set_yticks(())\n",
    "plt.show()"
   ]
  }
 ],
 "metadata": {
  "kernelspec": {
   "display_name": "Python 3 (ipykernel)",
   "language": "python",
   "name": "python3"
  },
  "language_info": {
   "codemirror_mode": {
    "name": "ipython",
    "version": 3
   },
   "file_extension": ".py",
   "mimetype": "text/x-python",
   "name": "python",
   "nbconvert_exporter": "python",
   "pygments_lexer": "ipython3",
   "version": "3.9.7"
  }
 },
 "nbformat": 4,
 "nbformat_minor": 5
}
